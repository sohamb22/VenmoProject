{
  "nbformat": 4,
  "nbformat_minor": 0,
  "metadata": {
    "colab": {
      "name": " Copy of Nitish/Soham's Venmo Project.ipynb",
      "provenance": [],
      "authorship_tag": "ABX9TyPzaE1Marcn+BS9ot5ekcZm",
      "include_colab_link": true
    },
    "kernelspec": {
      "name": "python3",
      "display_name": "Python 3"
    }
  },
  "cells": [
    {
      "cell_type": "markdown",
      "metadata": {
        "id": "view-in-github",
        "colab_type": "text"
      },
      "source": [
        "<a href=\"https://colab.research.google.com/github/sohamb22/VenmoProject/blob/main/Nitish.ipynb\" target=\"_parent\"><img src=\"https://colab.research.google.com/assets/colab-badge.svg\" alt=\"Open In Colab\"/></a>"
      ]
    },
    {
      "cell_type": "code",
      "metadata": {
        "id": "--K5nq1MsCV-"
      },
      "source": [
        "accountBalance=float (input(\"Your account balance: \"))\r\n",
        "removalAmount=float (input(\"What is the amount of money you wish to remove?\"))\r\n",
        "accountBalance=accountBalance-removalAmount\r\n",
        "if (accountBalance > 0):\r\n",
        "  print(\"The transaction has been completed\")\r\n",
        "else (accountBalance <= 0:)\r\n",
        "  print(\"You did not enter a valid amount\")"
      ],
      "execution_count": null,
      "outputs": []
    },
    {
      "cell_type": "code",
      "metadata": {
        "colab": {
          "base_uri": "https://localhost:8080/"
        },
        "id": "uSfZQLsQF4qy",
        "outputId": "8430fc7b-575b-4952-8918-049f2df6f3d3"
      },
      "source": [
        "#New Function\r\n",
        "TransactionAmounts=[10,25,40]\r\n",
        "AccountBalance=120\r\n",
        "if (AccountBalance > 50):\r\n",
        "  print(\"The transaction has been completed\")\r\n",
        "else:\r\n",
        "  print(\"Your account balance is too small\")\r\n",
        "for amount in TransactionAmounts:\r\n",
        "  AccountBalance=AccountBalance-amount\r\n",
        "  print(AccountBalance)\r\n",
        "\r\n"
      ],
      "execution_count": 16,
      "outputs": [
        {
          "output_type": "stream",
          "text": [
            "The transaction has been completed\n",
            "110\n",
            "85\n",
            "45\n"
          ],
          "name": "stdout"
        }
      ]
    }
  ]
}