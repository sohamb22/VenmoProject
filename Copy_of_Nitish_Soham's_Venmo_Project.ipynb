{
  "nbformat": 4,
  "nbformat_minor": 0,
  "metadata": {
    "colab": {
      "name": "Copy of Nitish/Soham's Venmo Project.ipynb",
      "provenance": [],
      "collapsed_sections": [],
      "include_colab_link": true
    },
    "kernelspec": {
      "name": "python3",
      "display_name": "Python 3"
    }
  },
  "cells": [
    {
      "cell_type": "markdown",
      "metadata": {
        "id": "view-in-github",
        "colab_type": "text"
      },
      "source": [
        "<a href=\"https://colab.research.google.com/github/sohamb22/VenmoProject/blob/soham/Copy_of_Nitish_Soham's_Venmo_Project.ipynb\" target=\"_parent\"><img src=\"https://colab.research.google.com/assets/colab-badge.svg\" alt=\"Open In Colab\"/></a>"
      ]
    },
    {
      "cell_type": "code",
      "metadata": {
        "id": "jRH6OFQZJYAB",
        "colab": {
          "base_uri": "https://localhost:8080/"
        },
        "outputId": "8b808bf8-e83e-4dd3-d3e4-a39662da6422"
      },
      "source": [
        "#Test 1\r\n",
        "\r\n",
        "moneyinaccount=float(input(\"How much money is in your account: \"))\r\n",
        "transferAmount=float(input(\"How much money do you want to transfer from your account: \"))\r\n",
        "moneyinaccount=moneyinaccount-transferAmount\r\n",
        "if (moneyinaccount >= 0):\r\n",
        "  print(\"You have enough money to take out of your account\")\r\n",
        "elif (moneyinaccount < 0):\r\n",
        "  print(\"You do not have enough money to take out of your account\")\r\n"
      ],
      "execution_count": 22,
      "outputs": [
        {
          "output_type": "stream",
          "text": [
            "How much money is in your account: 90\n",
            "How much money do you want to transfer from your account: 98\n",
            "You do not have enough money to take out of your account\n"
          ],
          "name": "stdout"
        }
      ]
    },
    {
      "cell_type": "code",
      "metadata": {
        "colab": {
          "base_uri": "https://localhost:8080/"
        },
        "id": "riCzhWl67K5Z",
        "outputId": "51c0279f-ff6e-4c49-9e10-052f3a0fb103"
      },
      "source": [
        "HowMuchToTakeOutFromAccount=[8,19,17]\r\n",
        "PersonAccount=90\r\n",
        "if (PersonAccount > 20):\r\n",
        "    print(\"You have enough money to take out of your account\")\r\n",
        "else: \r\n",
        "    print(\"You do not have enough money to take out of your account\")\r\n",
        "for x in HowMuchToTakeOutFromAccount:\r\n",
        "  PersonAccount=PersonAccount-x\r\n",
        "  print(PersonAccount)\r\n",
        "\r\n",
        "\r\n",
        "try:\r\n",
        "  x = int(input(\"Enter your balance \"))\r\n",
        "except ValueError:\r\n",
        "  x = int(input(\"Enter in a valid input \"))\r\n",
        "\r\n",
        "\r\n",
        "x=10\r\n",
        "y=5\r\n",
        "a=x+y\r\n",
        "print(a)"
      ],
      "execution_count": 21,
      "outputs": [
        {
          "output_type": "stream",
          "text": [
            "You have enough money to take out of your account\n",
            "82\n",
            "63\n",
            "46\n",
            "Enter your balance 90\n",
            "15\n"
          ],
          "name": "stdout"
        }
      ]
    }
  ]
}